{
 "cells": [
  {
   "cell_type": "markdown",
   "metadata": {},
   "source": [
    "### **Problema 1:**\n",
    "#### Utilice expresiones regulares para validar las siguintes situaciones:\n",
    "\n",
    "1. Implemente una regex para validar un correo electronico en general, a continuacion se muestran algunos ejemplos.\n",
    "\n",
    "    * Guate.360-porelmundo@miguate.com\n",
    "    * Miercoles3@hotmail.com\n",
    "    * Progra3.galileo@galileo.edu"
   ]
  },
  {
   "cell_type": "code",
   "execution_count": 13,
   "metadata": {},
   "outputs": [
    {
     "name": "stdout",
     "output_type": "stream",
     "text": [
      "Guate.360-porelmundo@miguate.com es valido.\n",
      "Miercoles3@hotmail.com es valido.\n",
      "Progra3.galileo@galileo.edu es valido.\n"
     ]
    }
   ],
   "source": [
    "import re\n",
    "regex = r'\\w[^@]+@[\\w-]+\\.\\w+'\n",
    "correos = [\"Guate.360-porelmundo@miguate.com\", \"Miercoles3@hotmail.com\", \"Progra3.galileo@galileo.edu\"]\n",
    "for correo in correos:    \n",
    "    if re.match(regex, correo):\n",
    "        print(f\"{correo} es valido.\")\n",
    "    else:\n",
    "        print(f\"{correo} es invalido.\")\n"
   ]
  },
  {
   "cell_type": "markdown",
   "metadata": {},
   "source": [
    "2. implemente una regex para validar la direccion url de una pagina web con los tipos de domino(.com, .org, .edu). Note que la url incluye el protocolo (http o https) y los sımbolos (//www.), a continuacion se muestran algunos ejemplos:\n",
    "\n",
    "    * https://www.guate360-porelmundo.com\n",
    "    * http://www.a2.net\n",
    "    * https://www.galileo.edu\n",
    "    * http://www.8.org"
   ]
  },
  {
   "cell_type": "code",
   "execution_count": 32,
   "metadata": {},
   "outputs": [
    {
     "name": "stdout",
     "output_type": "stream",
     "text": [
      "https://www.guate360-porelmundo.com es valida.\n",
      "http://www.a2.net es valida.\n",
      "https://www.galileo.edu es valida.\n",
      "http://www.8.org es invalida.\n"
     ]
    }
   ],
   "source": [
    "regex = r'(http(s)?):\\/\\/www\\.[\\w\\-\\.@:%\\+~#=]{2,}\\.[\\w]{2,4}$'\n",
    "urls = [\"https://www.guate360-porelmundo.com\", \"http://www.a2.net\", \"https://www.galileo.edu\", \"http://www.8.org\"]\n",
    "for url in urls:    \n",
    "    if re.match(regex, url):\n",
    "        print(f\"{url} es valida.\")\n",
    "    else:\n",
    "        print(f\"{url} es invalida.\")"
   ]
  },
  {
   "cell_type": "markdown",
   "metadata": {},
   "source": [
    "3. Implemente una regex para validar una MAC Address, notar que las mac addres estan divididas en 6 bloques de caracteres hexadecimales, es decir que los sımbolos solo pueden variar\n",
    "\n",
    "    * 5A 6F AF 8C 9B 1D\n",
    "    * 6D 6C 4D 3A EB 3F\n",
    "    * 3A 7C FA C8 6D 4J"
   ]
  },
  {
   "cell_type": "code",
   "execution_count": 33,
   "metadata": {},
   "outputs": [
    {
     "name": "stdout",
     "output_type": "stream",
     "text": [
      "5A 6F AF 8C 9B 1D es valida.\n",
      "6D 6C 4D 3A EB 3F es valida.\n",
      "3A 7C FA C8 6D 4J es invalida.\n"
     ]
    }
   ],
   "source": [
    "regex = r'([A-Fa-f0-9]{2}\\s?){6}'\n",
    "macs = [\"5A 6F AF 8C 9B 1D\", \"6D 6C 4D 3A EB 3F\", \"3A 7C FA C8 6D 4J\"]\n",
    "for mac in macs:    \n",
    "    if re.match(regex, mac):\n",
    "        print(f\"{mac} es valida.\")\n",
    "    else:\n",
    "        print(f\"{mac} es invalida.\")"
   ]
  },
  {
   "cell_type": "markdown",
   "metadata": {},
   "source": [
    "4. Implemente una regex para validar una direccion IPv4, notar que las direcciones IPv4 estan divididas en 4 bloques de valores los cuales solo pueden ir desde 0 hasta 255, una ip donde algunos de sus bloques sea mayor a 255 no es valida, ademas tome en cuenta que cada bloque esta separada por un punto. A continuacion se muestran algunos ejemplos:\n",
    "\n",
    "    * 192.16.8.1\n",
    "    * 234.56.78.90\n",
    "    * 1.2.3.4\n",
    "    * 192.168.45.345"
   ]
  },
  {
   "cell_type": "code",
   "execution_count": 37,
   "metadata": {},
   "outputs": [
    {
     "name": "stdout",
     "output_type": "stream",
     "text": [
      "192.16.8.1 es valida.\n",
      "234.56.78.90 es valida.\n",
      "1.2.3.4 es valida.\n",
      "192.168.45.345 es invalida.\n"
     ]
    }
   ],
   "source": [
    "regex = r'((25[0-5]|2[0-4][0-9]|1[0-9][0-9]|[1-9]?[0-9])\\.){3}(25[0-5]|2[0-4][0-9]|1[0-9][0-9]|[1-9]?[0-9])$'\n",
    "ips = [\"192.16.8.1\", \"234.56.78.90\", \"1.2.3.4\", \"192.168.45.345\"]\n",
    "for ip in ips:    \n",
    "    if re.match(regex, ip):\n",
    "        print(f\"{ip} es valida.\")\n",
    "    else:\n",
    "        print(f\"{ip} es invalida.\")"
   ]
  },
  {
   "cell_type": "markdown",
   "metadata": {},
   "source": [
    "5. Implemente una regex para validar una fecha con la secuencia dıa-mes-año donde el dıa, mes\n",
    "y año puedan estar separados ya sea por el caracter / o el caracter - o el caracter ., notar\n",
    "que las fechas son validas si los si los dıas estan definidos desde el 1 al 31, el mes del 1 al 12\n",
    "y el año de 2000 al 2019. Tambien debe tomar en cuenta que los dıas y meses pueden estar\n",
    "escritos ya sea con uno o dos caracteres por ejemplo: Enero puede escribirse como 1 o como\n",
    "**01**. Los años tambien pueden expresarse ya sea con dos o con cuatro caracteres por ejemplo:\n",
    "19 o 2019 son validos. A continuacion se muestran algunos ejemplos:\n",
    "\n",
    "    * 20/1/2019\n",
    "    * 12.03.2005\n",
    "    * 31-11-08\n",
    "    * 1-1-2012\n",
    "    * 12-12-22 "
   ]
  },
  {
   "cell_type": "code",
   "execution_count": 35,
   "metadata": {},
   "outputs": [
    {
     "name": "stdout",
     "output_type": "stream",
     "text": [
      "20/1/2019 es valida.\n",
      "12.03.2005 es valida.\n",
      "31-11-08 es valida.\n",
      "1-1-2012 es valida.\n",
      "12-12-22 es invalida.\n"
     ]
    }
   ],
   "source": [
    "regex = r'([12][0-9]|3[01]|0?[1-9])[/\\.-](1[012]|0?[1-9])[/\\.-](20[01][0-9]|[01][0-9])'\n",
    "fechas = [\"20/1/2019\", \"12.03.2005\", \"31-11-08\", \"1-1-2012\", \"12-12-22\"]\n",
    "for fecha in fechas:    \n",
    "    if re.match(regex, fecha):\n",
    "        print(f\"{fecha} es valida.\")\n",
    "    else:\n",
    "        print(f\"{fecha} es invalida.\")"
   ]
  },
  {
   "cell_type": "markdown",
   "metadata": {},
   "source": [
    "### **Problema 2:**\n",
    "\n",
    "En la carpeta encontrara adjuntos 21 documentos que tiene 100 fechas en la secuencia dıas-mes-año pero con distinto separador y distinto formato de mes, en algunos casos aparece un numero y enotros el nombre del mes en ingles, por ejemplo: Enero pueder aparecer como 1 o como Jan.\n",
    "\n",
    "Utilice Python y expresiones regulares para encontrar el dıa, mes y año promedio total del los 21 archivos, los resultados deben ser un double."
   ]
  },
  {
   "cell_type": "code",
   "execution_count": 68,
   "metadata": {},
   "outputs": [
    {
     "data": {
      "text/plain": [
       "['2019']"
      ]
     },
     "execution_count": 68,
     "metadata": {},
     "output_type": "execute_result"
    }
   ],
   "source": [
    "\n",
    "dias = []\n",
    "meses = []\n",
    "anios = []\n",
    "regex = r'([12][0-9]|3[01]|0?[1-9])[/\\.-](1[012]|0?[1-9]|[a-zA-Z]{3})[/\\.-](20[01][0-9]|[01][0-9])'\n",
    "gr = re.findall(regex, fecha)\n",
    "dias.append(list(gr[0])[0])\n",
    "meses.append(list(gr[0])[1])\n",
    "anios.append(list(gr[0])[2])\n"
   ]
  },
  {
   "cell_type": "code",
   "execution_count": 80,
   "metadata": {},
   "outputs": [
    {
     "name": "stdout",
     "output_type": "stream",
     "text": [
      "Promedio dias: 15.624761904761904 \n",
      "Promedio meses: 6.4664761904761905 \n",
      "Promedio anios: 2016.6869047619048\n"
     ]
    }
   ],
   "source": [
    "import os\n",
    "dir = 'Datos/'\n",
    "fechas = []\n",
    "dias = []\n",
    "meses = []\n",
    "anios = []\n",
    "meses_a_numeros = {\n",
    "    'jan': '1',\n",
    "    'feb': '2',\n",
    "    'mar': '3',\n",
    "    'apr': '4',\n",
    "    'may': '5',\n",
    "    'jun': '6',\n",
    "    'jul': '7',\n",
    "    'aug': '8',\n",
    "    'sep': '9',\n",
    "    'oct': '10',\n",
    "    'nov': '11',\n",
    "    'dec': '12'\n",
    "}\n",
    "regex = r'([12][0-9]|3[01]|0?[1-9])[/\\.-](1[012]|0?[1-9]|[a-zA-Z]{3})[/\\.-](20[01][0-9]|[01][0-9])'\n",
    "contenido = os.listdir(dir)\n",
    "for archivo in contenido:\n",
    "    archivo = open(dir + archivo)\n",
    "    for linea in archivo:\n",
    "        gr = re.findall(regex, linea)\n",
    "        dias.append(int(list(gr[0])[0]))\n",
    "        mes = list(gr[0])[1].lower()\n",
    "        if mes in meses_a_numeros:\n",
    "            meses.append(int(meses_a_numeros[mes]))\n",
    "        else:\n",
    "            meses.append(int(mes))\n",
    "        anios.append(int(list(gr[0])[2]))\n",
    "promedioDias = sum(dias) / len(dias)\n",
    "promedioMeses = sum(meses) / len(meses)\n",
    "promedioAnios = sum(anios) / len(anios)\n",
    "print(f\"Promedio dias: {promedioDias} \\nPromedio meses: {promedioMeses} \\nPromedio anios: {promedioAnios}\")\n"
   ]
  },
  {
   "cell_type": "markdown",
   "metadata": {},
   "source": [
    "### Problema 4"
   ]
  },
  {
   "cell_type": "markdown",
   "metadata": {},
   "source": [
    "https://colab.research.google.com/drive/1YX3O3wm3PbcAHVr0qalhrQj29K0hQYFc?usp=sharing"
   ]
  }
 ],
 "metadata": {
  "kernelspec": {
   "display_name": "base",
   "language": "python",
   "name": "python3"
  },
  "language_info": {
   "codemirror_mode": {
    "name": "ipython",
    "version": 3
   },
   "file_extension": ".py",
   "mimetype": "text/x-python",
   "name": "python",
   "nbconvert_exporter": "python",
   "pygments_lexer": "ipython3",
   "version": "3.9.13"
  },
  "orig_nbformat": 4
 },
 "nbformat": 4,
 "nbformat_minor": 2
}
